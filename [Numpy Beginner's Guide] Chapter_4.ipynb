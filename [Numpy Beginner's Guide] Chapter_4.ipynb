{
 "metadata": {
  "name": "[Numpy Beginner's Guide] Chapter_4"
 }, 
 "nbformat": 2, 
 "nbformat_minor": 0, 
 "worksheets": [
  {
   "cells": [
    {
     "cell_type": "code", 
     "collapsed": false, 
     "input": [
      "import numpy as np"
     ], 
     "language": "python", 
     "metadata": {}, 
     "outputs": [], 
     "prompt_number": 1
    }, 
    {
     "cell_type": "code", 
     "collapsed": false, 
     "input": [
      "import matplotlib.pyplot as plt"
     ], 
     "language": "python", 
     "metadata": {}, 
     "outputs": [], 
     "prompt_number": 2
    }, 
    {
     "cell_type": "code", 
     "collapsed": false, 
     "input": [
      "x = np.arange(20)"
     ], 
     "language": "python", 
     "metadata": {}, 
     "outputs": [], 
     "prompt_number": 3
    }, 
    {
     "cell_type": "code", 
     "collapsed": false, 
     "input": [
      "y = 2*x + np.random.random(20)"
     ], 
     "language": "python", 
     "metadata": {}, 
     "outputs": [], 
     "prompt_number": 4
    }, 
    {
     "cell_type": "code", 
     "collapsed": false, 
     "input": [
      "plt.plot(x, y)"
     ], 
     "language": "python", 
     "metadata": {}, 
     "outputs": [
      {
       "output_type": "pyout", 
       "prompt_number": 5, 
       "text": [
        "[<matplotlib.lines.Line2D at 0x9cb4dcc>]"
       ]
      }, 
      {
       "output_type": "display_data", 
       "png": "[encoded data removed]"
      }
     ], 
     "prompt_number": 5
    }, 
    {
     "cell_type": "code", 
     "collapsed": false, 
     "input": [
      "m_cov = np.cov(x, y)"
     ], 
     "language": "python", 
     "metadata": {}, 
     "outputs": [], 
     "prompt_number": 10
    }, 
    {
     "cell_type": "code", 
     "collapsed": false, 
     "input": [
      "m_cov.diagonal()"
     ], 
     "language": "python", 
     "metadata": {}, 
     "outputs": [
      {
       "output_type": "pyout", 
       "prompt_number": 11, 
       "text": [
        "array([  35.        ,  138.91189592])"
       ]
      }
     ], 
     "prompt_number": 11
    }, 
    {
     "cell_type": "code", 
     "collapsed": false, 
     "input": [
      "m_cov.trace()"
     ], 
     "language": "python", 
     "metadata": {}, 
     "outputs": [
      {
       "output_type": "pyout", 
       "prompt_number": 12, 
       "text": [
        "173.91189591937371"
       ]
      }
     ], 
     "prompt_number": 12
    }, 
    {
     "cell_type": "code", 
     "collapsed": false, 
     "input": [
      "np.corrcoef(x,y)"
     ], 
     "language": "python", 
     "metadata": {}, 
     "outputs": [
      {
       "output_type": "pyout", 
       "prompt_number": 13, 
       "text": [
        "array([[ 1.        ,  0.99973001],", 
        "", 
        "       [ 0.99973001,  1.        ]])"
       ]
      }
     ], 
     "prompt_number": 13
    }, 
    {
     "cell_type": "code", 
     "collapsed": false, 
     "input": [
      "np.diff(np.arange(10))"
     ], 
     "language": "python", 
     "metadata": {}, 
     "outputs": [
      {
       "output_type": "pyout", 
       "prompt_number": 14, 
       "text": [
        "array([1, 1, 1, 1, 1, 1, 1, 1, 1])"
       ]
      }
     ], 
     "prompt_number": 14
    }, 
    {
     "cell_type": "code", 
     "collapsed": false, 
     "input": [
      "y = 1 + 2*x + 3*x**2"
     ], 
     "language": "python", 
     "metadata": {}, 
     "outputs": [], 
     "prompt_number": 22
    }, 
    {
     "cell_type": "code", 
     "collapsed": false, 
     "input": [
      "poly = np.polyfit(x,y,2)"
     ], 
     "language": "python", 
     "metadata": {}, 
     "outputs": [], 
     "prompt_number": 25
    }, 
    {
     "cell_type": "code", 
     "collapsed": false, 
     "input": [
      "poly"
     ], 
     "language": "python", 
     "metadata": {}, 
     "outputs": [
      {
       "output_type": "pyout", 
       "prompt_number": 27, 
       "text": [
        "array([ 3.,  2.,  1.])"
       ]
      }
     ], 
     "prompt_number": 27
    }, 
    {
     "cell_type": "code", 
     "collapsed": false, 
     "input": [
      "np.polyval(poly, 3)"
     ], 
     "language": "python", 
     "metadata": {}, 
     "outputs": [
      {
       "output_type": "pyout", 
       "prompt_number": 28, 
       "text": [
        "33.999999999999908"
       ]
      }
     ], 
     "prompt_number": 28
    }, 
    {
     "cell_type": "code", 
     "collapsed": false, 
     "input": [
      "np.roots(poly)"
     ], 
     "language": "python", 
     "metadata": {}, 
     "outputs": [
      {
       "output_type": "pyout", 
       "prompt_number": 29, 
       "text": [
        "array([-0.33333333+0.47140452j, -0.33333333-0.47140452j])"
       ]
      }
     ], 
     "prompt_number": 29
    }, 
    {
     "cell_type": "code", 
     "collapsed": false, 
     "input": [
      "der = np.polyder(poly)"
     ], 
     "language": "python", 
     "metadata": {}, 
     "outputs": [], 
     "prompt_number": 33
    }, 
    {
     "cell_type": "code", 
     "collapsed": false, 
     "input": [
      "der"
     ], 
     "language": "python", 
     "metadata": {}, 
     "outputs": [
      {
       "output_type": "pyout", 
       "prompt_number": 34, 
       "text": [
        "array([ 6.,  2.])"
       ]
      }
     ], 
     "prompt_number": 34
    }, 
    {
     "cell_type": "code", 
     "collapsed": false, 
     "input": [
      "np.polyval(poly, np.roots(der))"
     ], 
     "language": "python", 
     "metadata": {}, 
     "outputs": [
      {
       "output_type": "pyout", 
       "prompt_number": 36, 
       "text": [
        "array([ 0.66666667])"
       ]
      }
     ], 
     "prompt_number": 36
    }, 
    {
     "cell_type": "code", 
     "collapsed": false, 
     "input": [
      "np.roots(der)"
     ], 
     "language": "python", 
     "metadata": {}, 
     "outputs": [
      {
       "output_type": "pyout", 
       "prompt_number": 37, 
       "text": [
        "array([-0.33333333])"
       ]
      }
     ], 
     "prompt_number": 37
    }, 
    {
     "cell_type": "code", 
     "collapsed": false, 
     "input": [
      "a = np.random.random(20)"
     ], 
     "language": "python", 
     "metadata": {}, 
     "outputs": [], 
     "prompt_number": 49
    }, 
    {
     "cell_type": "code", 
     "collapsed": false, 
     "input": [
      "change = np.diff(a)"
     ], 
     "language": "python", 
     "metadata": {}, 
     "outputs": [], 
     "prompt_number": 50
    }, 
    {
     "cell_type": "code", 
     "collapsed": false, 
     "input": [
      "np.sign(change)"
     ], 
     "language": "python", 
     "metadata": {}, 
     "outputs": [
      {
       "output_type": "pyout", 
       "prompt_number": 51, 
       "text": [
        "array([-1.,  1.,  1.,  1., -1.,  1., -1., -1.,  1., -1.,  1., -1., -1.,", 
        "", 
        "        1.,  1., -1.,  1., -1., -1.])"
       ]
      }
     ], 
     "prompt_number": 51
    }, 
    {
     "cell_type": "code", 
     "collapsed": false, 
     "input": [
      "np.piecewise(change, [change < 0, change > 0], [-1, 1])"
     ], 
     "language": "python", 
     "metadata": {}, 
     "outputs": [
      {
       "output_type": "pyout", 
       "prompt_number": 54, 
       "text": [
        "array([-1.,  1.,  1.,  1., -1.,  1., -1., -1.,  1., -1.,  1., -1., -1.,", 
        "", 
        "        1.,  1., -1.,  1., -1., -1.])"
       ]
      }
     ], 
     "prompt_number": 54
    }, 
    {
     "cell_type": "code", 
     "collapsed": false, 
     "input": [
      "test = np.arange(10)"
     ], 
     "language": "python", 
     "metadata": {}, 
     "outputs": [], 
     "prompt_number": 55
    }, 
    {
     "cell_type": "code", 
     "collapsed": false, 
     "input": [
      "np.piecewise(test, [test < 8, ], [-1, ])"
     ], 
     "language": "python", 
     "metadata": {}, 
     "outputs": [
      {
       "output_type": "pyout", 
       "prompt_number": 58, 
       "text": [
        "array([-1, -1, -1, -1, -1, -1, -1, -1,  0,  0])"
       ]
      }
     ], 
     "prompt_number": 58
    }, 
    {
     "cell_type": "code", 
     "collapsed": false, 
     "input": [
      "np.array_equal(np.sign(change), np.piecewise(change, [change < 0, change > 0], [-1, 1]))"
     ], 
     "language": "python", 
     "metadata": {}, 
     "outputs": [
      {
       "output_type": "pyout", 
       "prompt_number": 60, 
       "text": [
        "True"
       ]
      }
     ], 
     "prompt_number": 60
    }, 
    {
     "cell_type": "code", 
     "collapsed": false, 
     "input": [
      "np.unique(np.array([2, 2]))"
     ], 
     "language": "python", 
     "metadata": {}, 
     "outputs": [
      {
       "output_type": "pyout", 
       "prompt_number": 61, 
       "text": [
        "array([2])"
       ]
      }
     ], 
     "prompt_number": 61
    }, 
    {
     "cell_type": "code", 
     "collapsed": false, 
     "input": [
      "test"
     ], 
     "language": "python", 
     "metadata": {}, 
     "outputs": [
      {
       "output_type": "pyout", 
       "prompt_number": 62, 
       "text": [
        "array([0, 1, 2, 3, 4, 5, 6, 7, 8, 9])"
       ]
      }
     ], 
     "prompt_number": 62
    }, 
    {
     "cell_type": "code", 
     "collapsed": false, 
     "input": [
      "test[:-1]"
     ], 
     "language": "python", 
     "metadata": {}, 
     "outputs": [
      {
       "output_type": "pyout", 
       "prompt_number": 63, 
       "text": [
        "array([0, 1, 2, 3, 4, 5, 6, 7, 8])"
       ]
      }
     ], 
     "prompt_number": 63
    }, 
    {
     "cell_type": "code", 
     "collapsed": false, 
     "input": [
      "d = np.diff(test + 1) / (test[:-1] + 1)"
     ], 
     "language": "python", 
     "metadata": {}, 
     "outputs": [], 
     "prompt_number": 69
    }, 
    {
     "cell_type": "code", 
     "collapsed": false, 
     "input": [
      "N, bins = np.histogram(d, bins=2)"
     ], 
     "language": "python", 
     "metadata": {}, 
     "outputs": [], 
     "prompt_number": 72
    }, 
    {
     "cell_type": "code", 
     "collapsed": false, 
     "input": [
      "N"
     ], 
     "language": "python", 
     "metadata": {}, 
     "outputs": [
      {
       "output_type": "pyout", 
       "prompt_number": 73, 
       "text": [
        "array([8, 1])"
       ]
      }
     ], 
     "prompt_number": 73
    }, 
    {
     "cell_type": "code", 
     "collapsed": false, 
     "input": [
      "bins"
     ], 
     "language": "python", 
     "metadata": {}, 
     "outputs": [
      {
       "output_type": "pyout", 
       "prompt_number": 74, 
       "text": [
        "array([ 0. ,  0.5,  1. ])"
       ]
      }
     ], 
     "prompt_number": 74
    }, 
    {
     "cell_type": "code", 
     "collapsed": false, 
     "input": [
      "N.argmax()"
     ], 
     "language": "python", 
     "metadata": {}, 
     "outputs": [
      {
       "output_type": "pyout", 
       "prompt_number": 75, 
       "text": [
        "0"
       ]
      }
     ], 
     "prompt_number": 75
    }, 
    {
     "cell_type": "code", 
     "collapsed": false, 
     "input": [
      "d.astype(float)"
     ], 
     "language": "python", 
     "metadata": {}, 
     "outputs": [
      {
       "output_type": "pyout", 
       "prompt_number": 77, 
       "text": [
        "array([ 1.,  0.,  0.,  0.,  0.,  0.,  0.,  0.,  0.])"
       ]
      }
     ], 
     "prompt_number": 77
    }, 
    {
     "cell_type": "code", 
     "collapsed": false, 
     "input": [
      "np.sort(x)"
     ], 
     "language": "python", 
     "metadata": {}, 
     "outputs": [
      {
       "output_type": "pyout", 
       "prompt_number": 78, 
       "text": [
        "array([ 0,  1,  2,  3,  4,  5,  6,  7,  8,  9, 10, 11, 12, 13, 14, 15, 16,", 
        "", 
        "       17, 18, 19])"
       ]
      }
     ], 
     "prompt_number": 78
    }, 
    {
     "cell_type": "code", 
     "collapsed": false, 
     "input": [
      "np.histogram(d, bins=3)"
     ], 
     "language": "python", 
     "metadata": {}, 
     "outputs": [
      {
       "output_type": "pyout", 
       "prompt_number": 79, 
       "text": [
        "(array([8, 0, 1]), array([ 0.        ,  0.33333333,  0.66666667,  1.        ]))"
       ]
      }
     ], 
     "prompt_number": 79
    }, 
    {
     "cell_type": "code", 
     "collapsed": false, 
     "input": [
      "def func(x, y):", 
      "", 
      "    return x+y"
     ], 
     "language": "python", 
     "metadata": {}, 
     "outputs": [], 
     "prompt_number": 80
    }, 
    {
     "cell_type": "code", 
     "collapsed": false, 
     "input": [
      "f = np.vectorize(func)"
     ], 
     "language": "python", 
     "metadata": {}, 
     "outputs": [], 
     "prompt_number": 81
    }, 
    {
     "cell_type": "code", 
     "collapsed": false, 
     "input": [
      "f(np.arange(10), np.arange(10, 20))"
     ], 
     "language": "python", 
     "metadata": {}, 
     "outputs": [
      {
       "output_type": "pyout", 
       "prompt_number": 82, 
       "text": [
        "array([10, 12, 14, 16, 18, 20, 22, 24, 26, 28])"
       ]
      }
     ], 
     "prompt_number": 82
    }, 
    {
     "cell_type": "code", 
     "collapsed": false, 
     "input": [
      "w = np.hanning(5)"
     ], 
     "language": "python", 
     "metadata": {}, 
     "outputs": [], 
     "prompt_number": 83
    }, 
    {
     "cell_type": "code", 
     "collapsed": false, 
     "input": [
      "w"
     ], 
     "language": "python", 
     "metadata": {}, 
     "outputs": [
      {
       "output_type": "pyout", 
       "prompt_number": 85, 
       "text": [
        "array([ 0. ,  0.5,  1. ,  0.5,  0. ])"
       ]
      }
     ], 
     "prompt_number": 85
    }, 
    {
     "cell_type": "code", 
     "collapsed": false, 
     "input": [
      "x = np.random.random(10)"
     ], 
     "language": "python", 
     "metadata": {}, 
     "outputs": [], 
     "prompt_number": 86
    }, 
    {
     "cell_type": "code", 
     "collapsed": false, 
     "input": [
      "x"
     ], 
     "language": "python", 
     "metadata": {}, 
     "outputs": [
      {
       "output_type": "pyout", 
       "prompt_number": 87, 
       "text": [
        "array([ 0.5432519 ,  0.28123866,  0.0092824 ,  0.99062827,  0.42196416,", 
        "", 
        "        0.21031581,  0.47171125,  0.22488431,  0.2013709 ,  0.89958758])"
       ]
      }
     ], 
     "prompt_number": 87
    }, 
    {
     "cell_type": "code", 
     "collapsed": false, 
     "input": [
      "x_returns = np.diff(x) / x[:-1]"
     ], 
     "language": "python", 
     "metadata": {}, 
     "outputs": [], 
     "prompt_number": 88
    }, 
    {
     "cell_type": "code", 
     "collapsed": false, 
     "input": [
      "x_returns"
     ], 
     "language": "python", 
     "metadata": {}, 
     "outputs": [
      {
       "output_type": "pyout", 
       "prompt_number": 89, 
       "text": [
        "array([ -4.82305241e-01,  -9.66994578e-01,   1.05721127e+02,", 
        "", 
        "        -5.74043887e-01,  -5.01578976e-01,   1.24287107e+00,", 
        "", 
        "        -5.23258543e-01,  -1.04557785e-01,   3.46731661e+00])"
       ]
      }
     ], 
     "prompt_number": 89
    }, 
    {
     "cell_type": "code", 
     "collapsed": false, 
     "input": [
      "np.convolve(w/w.sum(), x)"
     ], 
     "language": "python", 
     "metadata": {}, 
     "outputs": [
      {
       "output_type": "pyout", 
       "prompt_number": 90, 
       "text": [
        "array([ 0.        ,  0.13581298,  0.34193562,  0.27875291,  0.32260793,", 
        "", 
        "        0.60312577,  0.5112181 ,  0.32857676,  0.34465565,  0.28071269,", 
        "", 
        "        0.38180342,  0.50013651,  0.22489689,  0.        ])"
       ]
      }
     ], 
     "prompt_number": 90
    }, 
    {
     "cell_type": "code", 
     "collapsed": false, 
     "input": [
      "t = np.arange(len(x_returns))"
     ], 
     "language": "python", 
     "metadata": {}, 
     "outputs": [], 
     "prompt_number": 91
    }, 
    {
     "cell_type": "code", 
     "collapsed": false, 
     "input": [
      "poly_w = np.polyfit(t, x_returns, 5)"
     ], 
     "language": "python", 
     "metadata": {}, 
     "outputs": [], 
     "prompt_number": 92
    }, 
    {
     "cell_type": "code", 
     "collapsed": false, 
     "input": [
      "poly_w"
     ], 
     "language": "python", 
     "metadata": {}, 
     "outputs": [
      {
       "output_type": "pyout", 
       "prompt_number": 93, 
       "text": [
        "array([ -0.12894667,   2.25961741, -11.68153509,  10.1970126 ,", 
        "", 
        "        38.21847779,  -7.22909929])"
       ]
      }
     ], 
     "prompt_number": 93
    }, 
    {
     "cell_type": "code", 
     "collapsed": false, 
     "input": [
      "poly_x = np.polyfit(t, x_returns, 3)"
     ], 
     "language": "python", 
     "metadata": {}, 
     "outputs": [], 
     "prompt_number": 94
    }, 
    {
     "cell_type": "code", 
     "collapsed": false, 
     "input": [
      "poly_x"
     ], 
     "language": "python", 
     "metadata": {}, 
     "outputs": [
      {
       "output_type": "pyout", 
       "prompt_number": 96, 
       "text": [
        "array([  1.19030507, -15.11357638,  46.52360031,  -3.00409148])"
       ]
      }
     ], 
     "prompt_number": 96
    }, 
    {
     "cell_type": "code", 
     "collapsed": false, 
     "input": [
      "np.roots(np.polysub(poly_w, poly_x))"
     ], 
     "language": "python", 
     "metadata": {}, 
     "outputs": [
      {
       "output_type": "pyout", 
       "prompt_number": 100, 
       "text": [
        "array([ 7.85657689,  5.88013831,  3.22009063,  0.83168387, -0.26483177])"
       ]
      }
     ], 
     "prompt_number": 100
    }, 
    {
     "cell_type": "code", 
     "collapsed": false, 
     "input": [
      "np.select([np.isreal(x_returns)], [x_returns])"
     ], 
     "language": "python", 
     "metadata": {}, 
     "outputs": [
      {
       "output_type": "pyout", 
       "prompt_number": 101, 
       "text": [
        "array([ -4.82305241e-01,  -9.66994578e-01,   1.05721127e+02,", 
        "", 
        "        -5.74043887e-01,  -5.01578976e-01,   1.24287107e+00,", 
        "", 
        "        -5.23258543e-01,  -1.04557785e-01,   3.46731661e+00])"
       ]
      }
     ], 
     "prompt_number": 101
    }, 
    {
     "cell_type": "code", 
     "collapsed": false, 
     "input": [
      "n = np.array([0, 0, 1,1,1, 0])"
     ], 
     "language": "python", 
     "metadata": {}, 
     "outputs": [], 
     "prompt_number": 102
    }, 
    {
     "cell_type": "code", 
     "collapsed": false, 
     "input": [
      "np.trim_zeros(n)"
     ], 
     "language": "python", 
     "metadata": {}, 
     "outputs": [
      {
       "output_type": "pyout", 
       "prompt_number": 103, 
       "text": [
        "array([1, 1, 1])"
       ]
      }
     ], 
     "prompt_number": 103
    }, 
    {
     "cell_type": "code", 
     "collapsed": false, 
     "input": [], 
     "language": "python", 
     "metadata": {}, 
     "outputs": []
    }
   ], 
   "metadata": {}
  }
 ]
}