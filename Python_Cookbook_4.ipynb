{
 "metadata": {
  "name": "Python_Cookbook_4"
 }, 
 "nbformat": 2, 
 "worksheets": [
  {
   "cells": [
    {
     "cell_type": "code", 
     "collapsed": false, 
     "input": [
      "### Recipe 4.1: Copy ###", 
      "import copy", 
      "list_of_lists = [ ['a'], [1, 2], ['z', 23] ]", 
      "s_copy = copy.copy(list_of_lists)            # shallow copy", 
      "s_copy[0].append(-1)", 
      "print list_of_lists", 
      "print s_copy", 
      "", 
      "s_copy_2 = list(list_of_lists)               # shallow copy by copy constructor", 
      "s_copy_2[0].append(-2)", 
      "print list_of_lists", 
      "print s_copy_2", 
      "", 
      "d_copy = copy.deepcopy(list_of_lists)        # deep copy", 
      "d_copy[0].append(-3)", 
      "print list_of_lists", 
      "print d_copy", 
      "", 
      "print list_of_lists is s_copy, list_of_lists == s_copy     # equality test"
     ], 
     "language": "python", 
     "outputs": [
      {
       "output_type": "stream", 
       "stream": "stdout", 
       "text": [
        "[['a', -1], [1, 2], ['z', 23]]", 
        "[['a', -1], [1, 2], ['z', 23]]", 
        "[['a', -1, -2], [1, 2], ['z', 23]]", 
        "[['a', -1, -2], [1, 2], ['z', 23]]", 
        "[['a', -1, -2], [1, 2], ['z', 23]]", 
        "[['a', -1, -2, -3], [1, 2], ['z', 23]]", 
        "False True"
       ]
      }
     ], 
     "prompt_number": 43
    }, 
    {
     "cell_type": "code", 
     "collapsed": false, 
     "input": [
      "### Recipe 4.2: List Comprehension ###", 
      "l = range(30)", 
      "print \"Original: \", l", 
      "l[:] = [min(x, 10) for x in l]", 
      "print \"Changed: \", l", 
      "l1 = map(lambda x:x+1, l)         # apply function to each element", 
      "print \"Func: \", l1", 
      "l2 = list(l)", 
      "print \"Shallow Copy: \", l2", 
      "total = sum(x for x in l)         # generator expression", 
      "print \"Total: \", total"
     ], 
     "language": "python", 
     "outputs": [
      {
       "output_type": "stream", 
       "stream": "stdout", 
       "text": [
        "Original:  [0, 1, 2, 3, 4, 5, 6, 7, 8, 9, 10, 11, 12, 13, 14, 15, 16, 17, 18, 19, 20, 21, 22, 23, 24, 25, 26, 27, 28, 29]", 
        "Changed:  [0, 1, 2, 3, 4, 5, 6, 7, 8, 9, 10, 10, 10, 10, 10, 10, 10, 10, 10, 10, 10, 10, 10, 10, 10, 10, 10, 10, 10, 10]", 
        "Func:  [1, 2, 3, 4, 5, 6, 7, 8, 9, 10, 11, 11, 11, 11, 11, 11, 11, 11, 11, 11, 11, 11, 11, 11, 11, 11, 11, 11, 11, 11]", 
        "Shallow Copy:  [0, 1, 2, 3, 4, 5, 6, 7, 8, 9, 10, 10, 10, 10, 10, 10, 10, 10, 10, 10, 10, 10, 10, 10, 10, 10, 10, 10, 10, 10]", 
        "Total:  245"
       ]
      }
     ], 
     "prompt_number": 46
    }, 
    {
     "cell_type": "code", 
     "collapsed": true, 
     "input": [
      "## Recipe 4.3: List get ###", 
      "def list_get(l, i, v = None):", 
      "    if -len(l) <= i < len(l):", 
      "        return l[i]", 
      "    return v"
     ], 
     "language": "python", 
     "outputs": [], 
     "prompt_number": 44
    }, 
    {
     "cell_type": "code", 
     "collapsed": false, 
     "input": [
      "## Recipe 4.4: Enumerate ###", 
      "l = range(20)", 
      "for idx, element in enumerate(l):     # iterator, the order is the same as dict(enumerate(l))", 
      "    print idx, element"
     ], 
     "language": "python", 
     "outputs": [
      {
       "output_type": "stream", 
       "stream": "stdout", 
       "text": [
        "0 0", 
        "1 1", 
        "2 2", 
        "3 3", 
        "4 4", 
        "5 5", 
        "6 6", 
        "7 7", 
        "8 8", 
        "9 9", 
        "10 10", 
        "11 11", 
        "12 12", 
        "13 13", 
        "14 14", 
        "15 15", 
        "16 16", 
        "17 17", 
        "18 18", 
        "19 19"
       ]
      }
     ], 
     "prompt_number": 45
    }, 
    {
     "cell_type": "code", 
     "collapsed": false, 
     "input": [
      "## Recipe 4.5: copy without sharing reference ##", 
      "#  Multiplying a sequence by a number creates a new sequence with the specified number of new references to the original contents. ", 
      "sample = [[0]*3]*5", 
      "sample[0][0] = 123", 
      "print sample", 
      "", 
      "# list comprehension avoids this problem", 
      "multilist = [[0 for col in range(5)] for row in range(10)]", 
      "multilist[0][0] = 123", 
      "print multilist"
     ], 
     "language": "python", 
     "outputs": [
      {
       "output_type": "stream", 
       "stream": "stdout", 
       "text": [
        "[[123, 0, 0], [123, 0, 0], [123, 0, 0], [123, 0, 0], [123, 0, 0]]", 
        "[[123, 0, 0, 0, 0], [0, 0, 0, 0, 0], [0, 0, 0, 0, 0], [0, 0, 0, 0, 0], [0, 0, 0, 0, 0], [0, 0, 0, 0, 0], [0, 0, 0, 0, 0], [0, 0, 0, 0, 0], [0, 0, 0, 0, 0], [0, 0, 0, 0, 0]]"
       ]
      }
     ], 
     "prompt_number": 48
    }, 
    {
     "cell_type": "code", 
     "collapsed": true, 
     "input": [], 
     "language": "python", 
     "outputs": [], 
     "prompt_number": 44
    }, 
    {
     "cell_type": "code", 
     "collapsed": true, 
     "input": [], 
     "language": "python", 
     "outputs": [], 
     "prompt_number": 44
    }, 
    {
     "cell_type": "code", 
     "collapsed": true, 
     "input": [], 
     "language": "python", 
     "outputs": [], 
     "prompt_number": 44
    }, 
    {
     "cell_type": "code", 
     "collapsed": true, 
     "input": [], 
     "language": "python", 
     "outputs": [], 
     "prompt_number": 44
    }, 
    {
     "cell_type": "code", 
     "collapsed": true, 
     "input": [], 
     "language": "python", 
     "outputs": [], 
     "prompt_number": 44
    }, 
    {
     "cell_type": "code", 
     "collapsed": true, 
     "input": [], 
     "language": "python", 
     "outputs": [], 
     "prompt_number": 44
    }, 
    {
     "cell_type": "code", 
     "collapsed": true, 
     "input": [], 
     "language": "python", 
     "outputs": [], 
     "prompt_number": 44
    }, 
    {
     "cell_type": "code", 
     "collapsed": true, 
     "input": [], 
     "language": "python", 
     "outputs": [], 
     "prompt_number": 44
    }, 
    {
     "cell_type": "code", 
     "collapsed": true, 
     "input": [], 
     "language": "python", 
     "outputs": []
    }
   ]
  }
 ]
}