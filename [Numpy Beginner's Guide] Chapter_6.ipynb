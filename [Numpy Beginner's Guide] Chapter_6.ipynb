{
 "metadata": {
  "name": "[Numpy Beginner's Guide] Chapter_6"
 }, 
 "nbformat": 2, 
 "nbformat_minor": 0, 
 "worksheets": [
  {
   "cells": [
    {
     "cell_type": "code", 
     "collapsed": false, 
     "input": [
      "import numpy as np"
     ], 
     "language": "python", 
     "metadata": {}, 
     "outputs": [], 
     "prompt_number": 1
    }, 
    {
     "cell_type": "code", 
     "collapsed": false, 
     "input": [
      "import matplotlib.pyplot as plt"
     ], 
     "language": "python", 
     "metadata": {}, 
     "outputs": [], 
     "prompt_number": 2
    }, 
    {
     "cell_type": "code", 
     "collapsed": false, 
     "input": [
      "A = np.mat(\"0 1 2; 1 0 3; 4 -3 8\")"
     ], 
     "language": "python", 
     "metadata": {}, 
     "outputs": [], 
     "prompt_number": 3
    }, 
    {
     "cell_type": "code", 
     "collapsed": false, 
     "input": [
      "np.linalg.inv(A)"
     ], 
     "language": "python", 
     "metadata": {}, 
     "outputs": [
      {
       "output_type": "pyout", 
       "prompt_number": 4, 
       "text": [
        "matrix([[-4.5,  7. , -1.5],", 
        "", 
        "        [-2. ,  4. , -1. ],", 
        "", 
        "        [ 1.5, -2. ,  0.5]])"
       ]
      }
     ], 
     "prompt_number": 4
    }, 
    {
     "cell_type": "code", 
     "collapsed": false, 
     "input": [
      "A.I"
     ], 
     "language": "python", 
     "metadata": {}, 
     "outputs": [
      {
       "output_type": "pyout", 
       "prompt_number": 5, 
       "text": [
        "matrix([[-4.5,  7. , -1.5],", 
        "", 
        "        [-2. ,  4. , -1. ],", 
        "", 
        "        [ 1.5, -2. ,  0.5]])"
       ]
      }
     ], 
     "prompt_number": 5
    }, 
    {
     "cell_type": "code", 
     "collapsed": false, 
     "input": [
      "A = np.mat('1 -2 1; 0 2 -8; -4 5 9')"
     ], 
     "language": "python", 
     "metadata": {}, 
     "outputs": [], 
     "prompt_number": 6
    }, 
    {
     "cell_type": "code", 
     "collapsed": false, 
     "input": [
      "b = np.array([0,8,-9])"
     ], 
     "language": "python", 
     "metadata": {}, 
     "outputs": [], 
     "prompt_number": 7
    }, 
    {
     "cell_type": "code", 
     "collapsed": false, 
     "input": [
      "x = np.linalg.solve(A, b)"
     ], 
     "language": "python", 
     "metadata": {}, 
     "outputs": [], 
     "prompt_number": 8
    }, 
    {
     "cell_type": "code", 
     "collapsed": false, 
     "input": [
      "x"
     ], 
     "language": "python", 
     "metadata": {}, 
     "outputs": [
      {
       "output_type": "pyout", 
       "prompt_number": 9, 
       "text": [
        "array([ 29.,  16.,   3.])"
       ]
      }
     ], 
     "prompt_number": 9
    }, 
    {
     "cell_type": "code", 
     "collapsed": false, 
     "input": [
      "np.dot(A, x)"
     ], 
     "language": "python", 
     "metadata": {}, 
     "outputs": [
      {
       "output_type": "pyout", 
       "prompt_number": 10, 
       "text": [
        "matrix([[ 0.,  8., -9.]])"
       ]
      }
     ], 
     "prompt_number": 10
    }, 
    {
     "cell_type": "code", 
     "collapsed": false, 
     "input": [
      "A = np.mat('3 -2; 1 0')"
     ], 
     "language": "python", 
     "metadata": {}, 
     "outputs": [], 
     "prompt_number": 11
    }, 
    {
     "cell_type": "code", 
     "collapsed": false, 
     "input": [
      "np.linalg.eigvals(A)"
     ], 
     "language": "python", 
     "metadata": {}, 
     "outputs": [
      {
       "output_type": "pyout", 
       "prompt_number": 12, 
       "text": [
        "array([ 2.,  1.])"
       ]
      }
     ], 
     "prompt_number": 12
    }, 
    {
     "cell_type": "code", 
     "collapsed": false, 
     "input": [
      "e_vals, e_vectors = np.linalg.eig(A)"
     ], 
     "language": "python", 
     "metadata": {}, 
     "outputs": [], 
     "prompt_number": 13
    }, 
    {
     "cell_type": "code", 
     "collapsed": false, 
     "input": [
      "e_vals"
     ], 
     "language": "python", 
     "metadata": {}, 
     "outputs": [
      {
       "output_type": "pyout", 
       "prompt_number": 14, 
       "text": [
        "array([ 2.,  1.])"
       ]
      }
     ], 
     "prompt_number": 14
    }, 
    {
     "cell_type": "code", 
     "collapsed": false, 
     "input": [
      "e_vectors"
     ], 
     "language": "python", 
     "metadata": {}, 
     "outputs": [
      {
       "output_type": "pyout", 
       "prompt_number": 15, 
       "text": [
        "matrix([[ 0.89442719,  0.70710678],", 
        "", 
        "        [ 0.4472136 ,  0.70710678]])"
       ]
      }
     ], 
     "prompt_number": 15
    }, 
    {
     "cell_type": "code", 
     "collapsed": false, 
     "input": [
      "np.dot(A, e_vectors[:, 0])"
     ], 
     "language": "python", 
     "metadata": {}, 
     "outputs": [
      {
       "output_type": "pyout", 
       "prompt_number": 16, 
       "text": [
        "matrix([[ 1.78885438],", 
        "", 
        "        [ 0.89442719]])"
       ]
      }
     ], 
     "prompt_number": 16
    }, 
    {
     "cell_type": "code", 
     "collapsed": false, 
     "input": [
      "e_vals[0]*e_vectors[:, 0]"
     ], 
     "language": "python", 
     "metadata": {}, 
     "outputs": [
      {
       "output_type": "pyout", 
       "prompt_number": 17, 
       "text": [
        "matrix([[ 1.78885438],", 
        "", 
        "        [ 0.89442719]])"
       ]
      }
     ], 
     "prompt_number": 17
    }, 
    {
     "cell_type": "code", 
     "collapsed": false, 
     "input": [
      "A = np.mat('4 11 14; 8 7 -2')"
     ], 
     "language": "python", 
     "metadata": {}, 
     "outputs": [], 
     "prompt_number": 1
    }, 
    {
     "cell_type": "code", 
     "collapsed": false, 
     "input": [
      "U, sigma, V = np.linalg.svd(A, full_matrices=False)"
     ], 
     "language": "python", 
     "metadata": {}, 
     "outputs": [], 
     "prompt_number": 11
    }, 
    {
     "cell_type": "code", 
     "collapsed": false, 
     "input": [
      "U"
     ], 
     "language": "python", 
     "metadata": {}, 
     "outputs": [
      {
       "output_type": "pyout", 
       "prompt_number": 12, 
       "text": [
        "matrix([[-0.9486833 , -0.31622777],", 
        "", 
        "        [-0.31622777,  0.9486833 ]])"
       ]
      }
     ], 
     "prompt_number": 12
    }, 
    {
     "cell_type": "code", 
     "collapsed": false, 
     "input": [
      "sigma"
     ], 
     "language": "python", 
     "metadata": {}, 
     "outputs": [
      {
       "output_type": "pyout", 
       "prompt_number": 13, 
       "text": [
        "array([ 18.97366596,   9.48683298])"
       ]
      }
     ], 
     "prompt_number": 13
    }, 
    {
     "cell_type": "code", 
     "collapsed": false, 
     "input": [
      "V"
     ], 
     "language": "python", 
     "metadata": {}, 
     "outputs": [
      {
       "output_type": "pyout", 
       "prompt_number": 14, 
       "text": [
        "matrix([[-0.33333333, -0.66666667, -0.66666667],", 
        "", 
        "        [ 0.66666667,  0.33333333, -0.66666667]])"
       ]
      }
     ], 
     "prompt_number": 14
    }, 
    {
     "cell_type": "code", 
     "collapsed": false, 
     "input": [
      "np.diag(sigma)"
     ], 
     "language": "python", 
     "metadata": {}, 
     "outputs": [
      {
       "output_type": "pyout", 
       "prompt_number": 15, 
       "text": [
        "array([[ 18.97366596,   0.        ],", 
        "", 
        "       [  0.        ,   9.48683298]])"
       ]
      }
     ], 
     "prompt_number": 15
    }, 
    {
     "cell_type": "code", 
     "collapsed": false, 
     "input": [
      "pinv_A = np.linalg.pinv(A)"
     ], 
     "language": "python", 
     "metadata": {}, 
     "outputs": [], 
     "prompt_number": 16
    }, 
    {
     "cell_type": "code", 
     "collapsed": false, 
     "input": [
      "pinv_A"
     ], 
     "language": "python", 
     "metadata": {}, 
     "outputs": [
      {
       "output_type": "pyout", 
       "prompt_number": 17, 
       "text": [
        "matrix([[-0.00555556,  0.07222222],", 
        "", 
        "        [ 0.02222222,  0.04444444],", 
        "", 
        "        [ 0.05555556, -0.05555556]])"
       ]
      }
     ], 
     "prompt_number": 17
    }, 
    {
     "cell_type": "code", 
     "collapsed": false, 
     "input": [
      "A*pinv_A"
     ], 
     "language": "python", 
     "metadata": {}, 
     "outputs": [
      {
       "output_type": "pyout", 
       "prompt_number": 18, 
       "text": [
        "matrix([[  1.00000000e+00,  -3.12250226e-16],", 
        "", 
        "        [ -1.00613962e-16,   1.00000000e+00]])"
       ]
      }
     ], 
     "prompt_number": 18
    }, 
    {
     "cell_type": "code", 
     "collapsed": false, 
     "input": [
      "np.linalg.det(np.mat('3 4; 5 6'))"
     ], 
     "language": "python", 
     "metadata": {}, 
     "outputs": [
      {
       "output_type": "pyout", 
       "prompt_number": 20, 
       "text": [
        "-1.9999999999999971"
       ]
      }
     ], 
     "prompt_number": 20
    }, 
    {
     "cell_type": "code", 
     "collapsed": false, 
     "input": [
      "x = np.linspace(0, 2*np.pi, 30)"
     ], 
     "language": "python", 
     "metadata": {}, 
     "outputs": [], 
     "prompt_number": 21
    }, 
    {
     "cell_type": "code", 
     "collapsed": false, 
     "input": [
      "wave = np.cos(x)"
     ], 
     "language": "python", 
     "metadata": {}, 
     "outputs": [], 
     "prompt_number": 22
    }, 
    {
     "cell_type": "code", 
     "collapsed": false, 
     "input": [
      "transformed = np.fft.fft(wave)"
     ], 
     "language": "python", 
     "metadata": {}, 
     "outputs": [], 
     "prompt_number": 23
    }, 
    {
     "cell_type": "code", 
     "collapsed": false, 
     "input": [
      "np.all(np.abs(np.fft.ifft(transformed) - wave) < 10**-9)"
     ], 
     "language": "python", 
     "metadata": {}, 
     "outputs": [
      {
       "output_type": "pyout", 
       "prompt_number": 26, 
       "text": [
        "True"
       ]
      }
     ], 
     "prompt_number": 26
    }, 
    {
     "cell_type": "code", 
     "collapsed": false, 
     "input": [
      "plt.plot(transformed)"
     ], 
     "language": "python", 
     "metadata": {}, 
     "outputs": [
      {
       "output_type": "stream", 
       "stream": "stderr", 
       "text": [
        "/usr/lib/python2.7/dist-packages/numpy/core/numeric.py:320: ComplexWarning: Casting complex values to real discards the imaginary part", 
        "", 
        "  return array(a, dtype, copy=False, order=order)"
       ]
      }, 
      {
       "output_type": "pyout", 
       "prompt_number": 27, 
       "text": [
        "[<matplotlib.lines.Line2D at 0x92c556c>]"
       ]
      }, 
      {
       "output_type": "display_data", 
       "png": "[encoded data removed]"
      }
     ], 
     "prompt_number": 27
    }, 
    {
     "cell_type": "code", 
     "collapsed": false, 
     "input": [
      "shifted = np.fft.fftshift(transformed)"
     ], 
     "language": "python", 
     "metadata": {}, 
     "outputs": [], 
     "prompt_number": 28
    }, 
    {
     "cell_type": "code", 
     "collapsed": false, 
     "input": [
      "np.all(np.fft.ifftshift(shifted) - transformed < 10**-9)"
     ], 
     "language": "python", 
     "metadata": {}, 
     "outputs": [
      {
       "output_type": "pyout", 
       "prompt_number": 29, 
       "text": [
        "True"
       ]
      }
     ], 
     "prompt_number": 29
    }, 
    {
     "cell_type": "code", 
     "collapsed": false, 
     "input": [
      "cash = np.zeros(10000)"
     ], 
     "language": "python", 
     "metadata": {}, 
     "outputs": [], 
     "prompt_number": 30
    }, 
    {
     "cell_type": "code", 
     "collapsed": false, 
     "input": [
      "cash[0] = 1000"
     ], 
     "language": "python", 
     "metadata": {}, 
     "outputs": [], 
     "prompt_number": 31
    }, 
    {
     "cell_type": "code", 
     "collapsed": false, 
     "input": [
      "outcome = np.random.binomial(9, 0.5, size = len(cash))"
     ], 
     "language": "python", 
     "metadata": {}, 
     "outputs": [], 
     "prompt_number": 33
    }, 
    {
     "cell_type": "code", 
     "collapsed": false, 
     "input": [
      "for i in range(1, len(cash)):", 
      "", 
      "    if outcome[i] < 5:", 
      "", 
      "        cash[i] = cash[i-1] - 1", 
      "", 
      "    else:", 
      "", 
      "        cash[i] = cash[i-1] + 1"
     ], 
     "language": "python", 
     "metadata": {}, 
     "outputs": [], 
     "prompt_number": 34
    }, 
    {
     "cell_type": "code", 
     "collapsed": false, 
     "input": [
      "print outcome.min(), outcome.max()"
     ], 
     "language": "python", 
     "metadata": {}, 
     "outputs": [
      {
       "output_type": "stream", 
       "stream": "stdout", 
       "text": [
        "0 9"
       ]
      }
     ], 
     "prompt_number": 35
    }, 
    {
     "cell_type": "code", 
     "collapsed": false, 
     "input": [
      "plt.plot(np.arange(len(cash)), cash)"
     ], 
     "language": "python", 
     "metadata": {}, 
     "outputs": [
      {
       "output_type": "pyout", 
       "prompt_number": 37, 
       "text": [
        "[<matplotlib.lines.Line2D at 0x95ea74c>]"
       ]
      }, 
      {
       "output_type": "display_data", 
       "png": "[encoded data removed]"
      }
     ], 
     "prompt_number": 37
    }, 
    {
     "cell_type": "code", 
     "collapsed": false, 
     "input": [
      "help(np.random.hypergeometric)"
     ], 
     "language": "python", 
     "metadata": {}, 
     "outputs": [
      {
       "output_type": "stream", 
       "stream": "stdout", 
       "text": [
        "Help on built-in function hypergeometric:", 
        "", 
        "", 
        "", 
        "hypergeometric(...)", 
        "", 
        "    hypergeometric(ngood, nbad, nsample, size=None)", 
        "", 
        "    ", 
        "", 
        "    Draw samples from a Hypergeometric distribution.", 
        "", 
        "    ", 
        "", 
        "    Samples are drawn from a Hypergeometric distribution with specified", 
        "", 
        "    parameters, ngood (ways to make a good selection), nbad (ways to make", 
        "", 
        "    a bad selection), and nsample = number of items sampled, which is less", 
        "", 
        "    than or equal to the sum ngood + nbad.", 
        "", 
        "    ", 
        "", 
        "    Parameters", 
        "", 
        "    ----------", 
        "", 
        "    ngood : float (but truncated to an integer)", 
        "", 
        "            parameter, > 0.", 
        "", 
        "    nbad  : float", 
        "", 
        "            parameter, >= 0.", 
        "", 
        "    nsample  : float", 
        "", 
        "               parameter, > 0 and <= ngood+nbad", 
        "", 
        "    size : {tuple, int}", 
        "", 
        "        Output shape.  If the given shape is, e.g., ``(m, n, k)``, then", 
        "", 
        "        ``m * n * k`` samples are drawn.", 
        "", 
        "    ", 
        "", 
        "    Returns", 
        "", 
        "    -------", 
        "", 
        "    samples : {ndarray, scalar}", 
        "", 
        "              where the values are all integers in  [0, n].", 
        "", 
        "    ", 
        "", 
        "    See Also", 
        "", 
        "    --------", 
        "", 
        "    scipy.stats.distributions.hypergeom : probability density function,", 
        "", 
        "        distribution or cumulative density function, etc.", 
        "", 
        "    ", 
        "", 
        "    Notes", 
        "", 
        "    -----", 
        "", 
        "    The probability density for the Hypergeometric distribution is", 
        "", 
        "    ", 
        "", 
        "    .. math:: P(x) = \\frac{\\binom{m}{n}\\binom{N-m}{n-x}}{\\binom{N}{n}},", 
        "", 
        "    ", 
        "", 
        "    where :math:`0 \\le x \\le m` and :math:`n+m-N \\le x \\le n`", 
        "", 
        "    ", 
        "", 
        "    for P(x) the probability of x successes, n = ngood, m = nbad, and", 
        "", 
        "    N = number of samples.", 
        "", 
        "    ", 
        "", 
        "    Consider an urn with black and white marbles in it, ngood of them", 
        "", 
        "    black and nbad are white. If you draw nsample balls without", 
        "", 
        "    replacement, then the Hypergeometric distribution describes the", 
        "", 
        "    distribution of black balls in the drawn sample.", 
        "", 
        "    ", 
        "", 
        "    Note that this distribution is very similar to the Binomial", 
        "", 
        "    distribution, except that in this case, samples are drawn without", 
        "", 
        "    replacement, whereas in the Binomial case samples are drawn with", 
        "", 
        "    replacement (or the sample space is infinite). As the sample space", 
        "", 
        "    becomes large, this distribution approaches the Binomial.", 
        "", 
        "    ", 
        "", 
        "    References", 
        "", 
        "    ----------", 
        "", 
        "    .. [1] Lentner, Marvin, \"Elementary Applied Statistics\", Bogden", 
        "", 
        "           and Quigley, 1972.", 
        "", 
        "    .. [2] Weisstein, Eric W. \"Hypergeometric Distribution.\" From", 
        "", 
        "           MathWorld--A Wolfram Web Resource.", 
        "", 
        "           http://mathworld.wolfram.com/HypergeometricDistribution.html", 
        "", 
        "    .. [3] Wikipedia, \"Hypergeometric-distribution\",", 
        "", 
        "           http://en.wikipedia.org/wiki/Hypergeometric-distribution", 
        "", 
        "    ", 
        "", 
        "    Examples", 
        "", 
        "    --------", 
        "", 
        "    Draw samples from the distribution:", 
        "", 
        "    ", 
        "", 
        "    >>> ngood, nbad, nsamp = 100, 2, 10", 
        "", 
        "    # number of good, number of bad, and number of samples", 
        "", 
        "    >>> s = np.random.hypergeometric(ngood, nbad, nsamp, 1000)", 
        "", 
        "    >>> hist(s)", 
        "", 
        "    #   note that it is very unlikely to grab both bad items", 
        "", 
        "    ", 
        "", 
        "    Suppose you have an urn with 15 white and 15 black marbles.", 
        "", 
        "    If you pull 15 marbles at random, how likely is it that", 
        "", 
        "    12 or more of them are one color?", 
        "", 
        "    ", 
        "", 
        "    >>> s = np.random.hypergeometric(15, 15, 15, 100000)", 
        "", 
        "    >>> sum(s>=12)/100000. + sum(s<=3)/100000.", 
        "", 
        "    #   answer = 0.003 ... pretty unlikely!", 
        "", 
        ""
       ]
      }
     ], 
     "prompt_number": 39
    }, 
    {
     "cell_type": "code", 
     "collapsed": false, 
     "input": [
      "N = 1000"
     ], 
     "language": "python", 
     "metadata": {}, 
     "outputs": [], 
     "prompt_number": 40
    }, 
    {
     "cell_type": "code", 
     "collapsed": false, 
     "input": [
      "normal_values = np.random.normal(size = N)"
     ], 
     "language": "python", 
     "metadata": {}, 
     "outputs": [], 
     "prompt_number": 43
    }, 
    {
     "cell_type": "code", 
     "collapsed": false, 
     "input": [
      "heights, bins, patches = plt.hist(normal_values, np.sqrt(N), normed=True, lw = 1)"
     ], 
     "language": "python", 
     "metadata": {}, 
     "outputs": [
      {
       "output_type": "display_data", 
       "png": "[encoded data removed]"
      }
     ], 
     "prompt_number": 51
    }, 
    {
     "cell_type": "code", 
     "collapsed": false, 
     "input": [
      "lognormal_values = np.random.lognormal(size = N)"
     ], 
     "language": "python", 
     "metadata": {}, 
     "outputs": [], 
     "prompt_number": 53
    }, 
    {
     "cell_type": "code", 
     "collapsed": false, 
     "input": [
      "dummy, bins, dummy = plt.hist(lognormal_values, np.sqrt(N), normed = True, lw = 1)"
     ], 
     "language": "python", 
     "metadata": {}, 
     "outputs": [
      {
       "output_type": "display_data", 
       "png": "[encoded data removed]"
      }
     ], 
     "prompt_number": 54
    }, 
    {
     "cell_type": "code", 
     "collapsed": false, 
     "input": [], 
     "language": "python", 
     "metadata": {}, 
     "outputs": [], 
     "prompt_number": 56
    }, 
    {
     "cell_type": "code", 
     "collapsed": false, 
     "input": [], 
     "language": "python", 
     "metadata": {}, 
     "outputs": [], 
     "prompt_number": 56
    }, 
    {
     "cell_type": "code", 
     "collapsed": false, 
     "input": [], 
     "language": "python", 
     "metadata": {}, 
     "outputs": []
    }
   ], 
   "metadata": {}
  }
 ]
}