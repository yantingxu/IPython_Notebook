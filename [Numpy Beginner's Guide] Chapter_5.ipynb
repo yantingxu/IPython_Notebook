{
 "metadata": {
  "name": "[Numpy Beginner's Guide] Chapter_5"
 }, 
 "nbformat": 2, 
 "nbformat_minor": 0, 
 "worksheets": [
  {
   "cells": [
    {
     "cell_type": "code", 
     "collapsed": false, 
     "input": [
      "import numpy as np"
     ], 
     "language": "python", 
     "metadata": {}, 
     "outputs": [], 
     "prompt_number": 1
    }, 
    {
     "cell_type": "code", 
     "collapsed": false, 
     "input": [
      "import matplotlib.pyplot as plt"
     ], 
     "language": "python", 
     "metadata": {}, 
     "outputs": [], 
     "prompt_number": 2
    }, 
    {
     "cell_type": "code", 
     "collapsed": false, 
     "input": [
      "A = np.mat('1 2 3; 4 5 6; 7 8 9')"
     ], 
     "language": "python", 
     "metadata": {}, 
     "outputs": [], 
     "prompt_number": 3
    }, 
    {
     "cell_type": "code", 
     "collapsed": false, 
     "input": [
      "A"
     ], 
     "language": "python", 
     "metadata": {}, 
     "outputs": [
      {
       "output_type": "pyout", 
       "prompt_number": 4, 
       "text": [
        "matrix([[1, 2, 3],", 
        "", 
        "        [4, 5, 6],", 
        "", 
        "        [7, 8, 9]])"
       ]
      }
     ], 
     "prompt_number": 4
    }, 
    {
     "cell_type": "code", 
     "collapsed": false, 
     "input": [
      "A.T"
     ], 
     "language": "python", 
     "metadata": {}, 
     "outputs": [
      {
       "output_type": "pyout", 
       "prompt_number": 5, 
       "text": [
        "matrix([[1, 4, 7],", 
        "", 
        "        [2, 5, 8],", 
        "", 
        "        [3, 6, 9]])"
       ]
      }
     ], 
     "prompt_number": 5
    }, 
    {
     "cell_type": "code", 
     "collapsed": false, 
     "input": [
      "A.I"
     ], 
     "language": "python", 
     "metadata": {}, 
     "outputs": [
      {
       "output_type": "pyout", 
       "prompt_number": 6, 
       "text": [
        "matrix([[  3.15221191e+15,  -6.30442381e+15,   3.15221191e+15],", 
        "", 
        "        [ -6.30442381e+15,   1.26088476e+16,  -6.30442381e+15],", 
        "", 
        "        [  3.15221191e+15,  -6.30442381e+15,   3.15221191e+15]])"
       ]
      }
     ], 
     "prompt_number": 6
    }, 
    {
     "cell_type": "code", 
     "collapsed": false, 
     "input": [
      "B = np.mat(np.arange(9).reshape(3,3))"
     ], 
     "language": "python", 
     "metadata": {}, 
     "outputs": [], 
     "prompt_number": 7
    }, 
    {
     "cell_type": "code", 
     "collapsed": false, 
     "input": [
      "B"
     ], 
     "language": "python", 
     "metadata": {}, 
     "outputs": [
      {
       "output_type": "pyout", 
       "prompt_number": 8, 
       "text": [
        "matrix([[0, 1, 2],", 
        "", 
        "        [3, 4, 5],", 
        "", 
        "        [6, 7, 8]])"
       ]
      }
     ], 
     "prompt_number": 8
    }, 
    {
     "cell_type": "code", 
     "collapsed": false, 
     "input": [
      "C = 2*np.eye(2)"
     ], 
     "language": "python", 
     "metadata": {}, 
     "outputs": [], 
     "prompt_number": 9
    }, 
    {
     "cell_type": "code", 
     "collapsed": false, 
     "input": [
      "C"
     ], 
     "language": "python", 
     "metadata": {}, 
     "outputs": [
      {
       "output_type": "pyout", 
       "prompt_number": 10, 
       "text": [
        "array([[ 2.,  0.],", 
        "", 
        "       [ 0.,  2.]])"
       ]
      }
     ], 
     "prompt_number": 10
    }, 
    {
     "cell_type": "code", 
     "collapsed": false, 
     "input": [
      "np.bmat('A B; A B')   # block matrix"
     ], 
     "language": "python", 
     "metadata": {}, 
     "outputs": [
      {
       "output_type": "pyout", 
       "prompt_number": 13, 
       "text": [
        "matrix([[1, 2, 3, 0, 1, 2],", 
        "", 
        "        [4, 5, 6, 3, 4, 5],", 
        "", 
        "        [7, 8, 9, 6, 7, 8],", 
        "", 
        "        [1, 2, 3, 0, 1, 2],", 
        "", 
        "        [4, 5, 6, 3, 4, 5],", 
        "", 
        "        [7, 8, 9, 6, 7, 8]])"
       ]
      }
     ], 
     "prompt_number": 13
    }, 
    {
     "cell_type": "code", 
     "collapsed": false, 
     "input": [
      "np.matrix(\"1 2 3; 4 5 6\", copy = False)"
     ], 
     "language": "python", 
     "metadata": {}, 
     "outputs": [
      {
       "output_type": "pyout", 
       "prompt_number": 12, 
       "text": [
        "matrix([[1, 2, 3],", 
        "", 
        "        [4, 5, 6]])"
       ]
      }
     ], 
     "prompt_number": 12
    }, 
    {
     "cell_type": "code", 
     "collapsed": false, 
     "input": [
      "help(np.frompyfunc)"
     ], 
     "language": "python", 
     "metadata": {}, 
     "outputs": [
      {
       "output_type": "stream", 
       "stream": "stdout", 
       "text": [
        "Help on built-in function frompyfunc in module numpy.core.umath:", 
        "", 
        "", 
        "", 
        "frompyfunc(...)", 
        "", 
        "    frompyfunc(func, nin, nout)", 
        "", 
        "    ", 
        "", 
        "    Takes an arbitrary Python function and returns a Numpy ufunc.", 
        "", 
        "    ", 
        "", 
        "    Can be used, for example, to add broadcasting to a built-in Python", 
        "", 
        "    function (see Examples section).", 
        "", 
        "    ", 
        "", 
        "    Parameters", 
        "", 
        "    ----------", 
        "", 
        "    func : Python function object", 
        "", 
        "        An arbitrary Python function.", 
        "", 
        "    nin : int", 
        "", 
        "        The number of input arguments.", 
        "", 
        "    nout : int", 
        "", 
        "        The number of objects returned by `func`.", 
        "", 
        "    ", 
        "", 
        "    Returns", 
        "", 
        "    -------", 
        "", 
        "    out : ufunc", 
        "", 
        "        Returns a Numpy universal function (``ufunc``) object.", 
        "", 
        "    ", 
        "", 
        "    Notes", 
        "", 
        "    -----", 
        "", 
        "    The returned ufunc always returns PyObject arrays.", 
        "", 
        "    ", 
        "", 
        "    Examples", 
        "", 
        "    --------", 
        "", 
        "    Use frompyfunc to add broadcasting to the Python function ``oct``:", 
        "", 
        "    ", 
        "", 
        "    >>> oct_array = np.frompyfunc(oct, 1, 1)", 
        "", 
        "    >>> oct_array(np.array((10, 30, 100)))", 
        "", 
        "    array([012, 036, 0144], dtype=object)", 
        "", 
        "    >>> np.array((oct(10), oct(30), oct(100))) # for comparison", 
        "", 
        "    array(['012', '036', '0144'],", 
        "", 
        "          dtype='|S4')", 
        "", 
        ""
       ]
      }
     ], 
     "prompt_number": 14
    }, 
    {
     "cell_type": "code", 
     "collapsed": false, 
     "input": [
      "def ultimate_answer(a):", 
      "", 
      "    result = np.zeros_like(a)", 
      "", 
      "    result.flat = 42", 
      "", 
      "    return result"
     ], 
     "language": "python", 
     "metadata": {}, 
     "outputs": [], 
     "prompt_number": 16
    }, 
    {
     "cell_type": "code", 
     "collapsed": false, 
     "input": [
      "ufunc = np.frompyfunc(ultimate_answer, 1, 1)"
     ], 
     "language": "python", 
     "metadata": {}, 
     "outputs": [], 
     "prompt_number": 17
    }, 
    {
     "cell_type": "code", 
     "collapsed": false, 
     "input": [
      "ufunc(np.arange(4).reshape(2,2))"
     ], 
     "language": "python", 
     "metadata": {}, 
     "outputs": [
      {
       "output_type": "pyout", 
       "prompt_number": 19, 
       "text": [
        "array([[array(42), array(42)],", 
        "", 
        "       [array(42), array(42)]], dtype=object)"
       ]
      }
     ], 
     "prompt_number": 19
    }, 
    {
     "cell_type": "code", 
     "collapsed": false, 
     "input": [
      "a = np.arange(9)"
     ], 
     "language": "python", 
     "metadata": {}, 
     "outputs": [], 
     "prompt_number": 20
    }, 
    {
     "cell_type": "code", 
     "collapsed": false, 
     "input": [
      "np.add.reduce(a)"
     ], 
     "language": "python", 
     "metadata": {}, 
     "outputs": [
      {
       "output_type": "pyout", 
       "prompt_number": 21, 
       "text": [
        "36"
       ]
      }
     ], 
     "prompt_number": 21
    }, 
    {
     "cell_type": "code", 
     "collapsed": false, 
     "input": [
      "np.add.accumulate(a)"
     ], 
     "language": "python", 
     "metadata": {}, 
     "outputs": [
      {
       "output_type": "pyout", 
       "prompt_number": 22, 
       "text": [
        "array([ 0,  1,  3,  6, 10, 15, 21, 28, 36])"
       ]
      }
     ], 
     "prompt_number": 22
    }, 
    {
     "cell_type": "code", 
     "collapsed": false, 
     "input": [
      "np.add.reduceat(a, [0, 5, 2, 7])"
     ], 
     "language": "python", 
     "metadata": {}, 
     "outputs": [
      {
       "output_type": "pyout", 
       "prompt_number": 23, 
       "text": [
        "array([10,  5, 20, 15])"
       ]
      }
     ], 
     "prompt_number": 23
    }, 
    {
     "cell_type": "code", 
     "collapsed": false, 
     "input": [
      "np.add.outer(np.arange(3), a)"
     ], 
     "language": "python", 
     "metadata": {}, 
     "outputs": [
      {
       "output_type": "pyout", 
       "prompt_number": 24, 
       "text": [
        "array([[ 0,  1,  2,  3,  4,  5,  6,  7,  8],", 
        "", 
        "       [ 1,  2,  3,  4,  5,  6,  7,  8,  9],", 
        "", 
        "       [ 2,  3,  4,  5,  6,  7,  8,  9, 10]])"
       ]
      }
     ], 
     "prompt_number": 24
    }, 
    {
     "cell_type": "code", 
     "collapsed": false, 
     "input": [
      "a = np.array([2, 6, 5])"
     ], 
     "language": "python", 
     "metadata": {}, 
     "outputs": [], 
     "prompt_number": 26
    }, 
    {
     "cell_type": "code", 
     "collapsed": false, 
     "input": [
      "b = np.array([1, 2, 3])"
     ], 
     "language": "python", 
     "metadata": {}, 
     "outputs": [], 
     "prompt_number": 27
    }, 
    {
     "cell_type": "code", 
     "collapsed": false, 
     "input": [
      "np.divide(a, b)"
     ], 
     "language": "python", 
     "metadata": {}, 
     "outputs": [
      {
       "output_type": "pyout", 
       "prompt_number": 28, 
       "text": [
        "array([2, 3, 1])"
       ]
      }
     ], 
     "prompt_number": 28
    }, 
    {
     "cell_type": "code", 
     "collapsed": false, 
     "input": [
      "np.divide(b, a)"
     ], 
     "language": "python", 
     "metadata": {}, 
     "outputs": [
      {
       "output_type": "pyout", 
       "prompt_number": 29, 
       "text": [
        "array([0, 0, 0])"
       ]
      }
     ], 
     "prompt_number": 29
    }, 
    {
     "cell_type": "code", 
     "collapsed": false, 
     "input": [
      "a/b"
     ], 
     "language": "python", 
     "metadata": {}, 
     "outputs": [
      {
       "output_type": "pyout", 
       "prompt_number": 30, 
       "text": [
        "array([2, 3, 1])"
       ]
      }
     ], 
     "prompt_number": 30
    }, 
    {
     "cell_type": "code", 
     "collapsed": false, 
     "input": [
      "np.true_divide(b, a)"
     ], 
     "language": "python", 
     "metadata": {}, 
     "outputs": [
      {
       "output_type": "pyout", 
       "prompt_number": 31, 
       "text": [
        "array([ 0.5       ,  0.33333333,  0.6       ])"
       ]
      }
     ], 
     "prompt_number": 31
    }, 
    {
     "cell_type": "code", 
     "collapsed": false, 
     "input": [
      "np.floor_divide(a, b)"
     ], 
     "language": "python", 
     "metadata": {}, 
     "outputs": [
      {
       "output_type": "pyout", 
       "prompt_number": 32, 
       "text": [
        "array([2, 3, 1])"
       ]
      }
     ], 
     "prompt_number": 32
    }, 
    {
     "cell_type": "code", 
     "collapsed": false, 
     "input": [
      "b/a"
     ], 
     "language": "python", 
     "metadata": {}, 
     "outputs": [
      {
       "output_type": "pyout", 
       "prompt_number": 34, 
       "text": [
        "array([0, 0, 0])"
       ]
      }
     ], 
     "prompt_number": 34
    }, 
    {
     "cell_type": "code", 
     "collapsed": false, 
     "input": [
      "from __future__ import division"
     ], 
     "language": "python", 
     "metadata": {}, 
     "outputs": [], 
     "prompt_number": 35
    }, 
    {
     "cell_type": "code", 
     "collapsed": false, 
     "input": [
      "b/a"
     ], 
     "language": "python", 
     "metadata": {}, 
     "outputs": [
      {
       "output_type": "pyout", 
       "prompt_number": 36, 
       "text": [
        "array([ 0.5       ,  0.33333333,  0.6       ])"
       ]
      }
     ], 
     "prompt_number": 36
    }, 
    {
     "cell_type": "code", 
     "collapsed": false, 
     "input": [
      "a//b   # equivalent to floor_divide"
     ], 
     "language": "python", 
     "metadata": {}, 
     "outputs": [
      {
       "output_type": "pyout", 
       "prompt_number": 38, 
       "text": [
        "array([2, 3, 1])"
       ]
      }
     ], 
     "prompt_number": 38
    }, 
    {
     "cell_type": "code", 
     "collapsed": false, 
     "input": [
      "def test_func(a, b):", 
      "", 
      "    result = np.zeros_like(a)", 
      "", 
      "    result.flat = 1", 
      "", 
      "    return result + a + b"
     ], 
     "language": "python", 
     "metadata": {}, 
     "outputs": [], 
     "prompt_number": 42
    }, 
    {
     "cell_type": "code", 
     "collapsed": false, 
     "input": [
      "ufunc = np.frompyfunc(test_func, 2, 1)"
     ], 
     "language": "python", 
     "metadata": {}, 
     "outputs": [], 
     "prompt_number": 43
    }, 
    {
     "cell_type": "code", 
     "collapsed": false, 
     "input": [
      "ufunc(np.arange(3), np.arange(3))"
     ], 
     "language": "python", 
     "metadata": {}, 
     "outputs": [
      {
       "output_type": "pyout", 
       "prompt_number": 44, 
       "text": [
        "array([1, 3, 5], dtype=object)"
       ]
      }
     ], 
     "prompt_number": 44
    }, 
    {
     "cell_type": "code", 
     "collapsed": false, 
     "input": [
      "a = np.arange(-4, 4)"
     ], 
     "language": "python", 
     "metadata": {}, 
     "outputs": [], 
     "prompt_number": 45
    }, 
    {
     "cell_type": "code", 
     "collapsed": false, 
     "input": [
      "np.remainder(a, 2)"
     ], 
     "language": "python", 
     "metadata": {}, 
     "outputs": [
      {
       "output_type": "pyout", 
       "prompt_number": 46, 
       "text": [
        "array([0, 1, 0, 1, 0, 1, 0, 1])"
       ]
      }
     ], 
     "prompt_number": 46
    }, 
    {
     "cell_type": "code", 
     "collapsed": false, 
     "input": [
      "np.mod(a, 2)"
     ], 
     "language": "python", 
     "metadata": {}, 
     "outputs": [
      {
       "output_type": "pyout", 
       "prompt_number": 47, 
       "text": [
        "array([0, 1, 0, 1, 0, 1, 0, 1])"
       ]
      }
     ], 
     "prompt_number": 47
    }, 
    {
     "cell_type": "code", 
     "collapsed": false, 
     "input": [
      "a % 2"
     ], 
     "language": "python", 
     "metadata": {}, 
     "outputs": [
      {
       "output_type": "pyout", 
       "prompt_number": 48, 
       "text": [
        "array([0, 1, 0, 1, 0, 1, 0, 1])"
       ]
      }
     ], 
     "prompt_number": 48
    }, 
    {
     "cell_type": "code", 
     "collapsed": false, 
     "input": [
      "np.fmod(a, 2)"
     ], 
     "language": "python", 
     "metadata": {}, 
     "outputs": [
      {
       "output_type": "pyout", 
       "prompt_number": 49, 
       "text": [
        "array([ 0, -1,  0, -1,  0,  1,  0,  1])"
       ]
      }
     ], 
     "prompt_number": 49
    }, 
    {
     "cell_type": "code", 
     "collapsed": false, 
     "input": [
      "F = np.matrix([[1, 1], [1, 0]])   # Fibonacci by matrix multiplication"
     ], 
     "language": "python", 
     "metadata": {}, 
     "outputs": [], 
     "prompt_number": 50
    }, 
    {
     "cell_type": "code", 
     "collapsed": false, 
     "input": [
      "(F**7)[0, 0]"
     ], 
     "language": "python", 
     "metadata": {}, 
     "outputs": [
      {
       "output_type": "pyout", 
       "prompt_number": 51, 
       "text": [
        "21"
       ]
      }
     ], 
     "prompt_number": 51
    }, 
    {
     "cell_type": "code", 
     "collapsed": false, 
     "input": [
      "n = np.arange(1, 9)"
     ], 
     "language": "python", 
     "metadata": {}, 
     "outputs": [], 
     "prompt_number": 52
    }, 
    {
     "cell_type": "code", 
     "collapsed": false, 
     "input": [
      "sqrt5 = np.sqrt(5)"
     ], 
     "language": "python", 
     "metadata": {}, 
     "outputs": [], 
     "prompt_number": 53
    }, 
    {
     "cell_type": "code", 
     "collapsed": false, 
     "input": [
      "phi = (1+sqrt5)/2"
     ], 
     "language": "python", 
     "metadata": {}, 
     "outputs": [], 
     "prompt_number": 54
    }, 
    {
     "cell_type": "code", 
     "collapsed": false, 
     "input": [
      "fibonacci = np.rint((phi**n - (-1/phi)**n)/sqrt5)   # rint: round integer"
     ], 
     "language": "python", 
     "metadata": {}, 
     "outputs": [], 
     "prompt_number": 57
    }, 
    {
     "cell_type": "code", 
     "collapsed": false, 
     "input": [
      "fibonacci"
     ], 
     "language": "python", 
     "metadata": {}, 
     "outputs": [
      {
       "output_type": "pyout", 
       "prompt_number": 58, 
       "text": [
        "array([  1.,   1.,   2.,   3.,   5.,   8.,  13.,  21.])"
       ]
      }
     ], 
     "prompt_number": 58
    }, 
    {
     "cell_type": "code", 
     "collapsed": false, 
     "input": [
      "t = np.linspace(-np.pi, np.pi, 201)"
     ], 
     "language": "python", 
     "metadata": {}, 
     "outputs": [], 
     "prompt_number": 60
    }, 
    {
     "cell_type": "code", 
     "collapsed": false, 
     "input": [
      "x = np.sin(9*t + np.pi/2)"
     ], 
     "language": "python", 
     "metadata": {}, 
     "outputs": [], 
     "prompt_number": 67
    }, 
    {
     "cell_type": "code", 
     "collapsed": false, 
     "input": [
      "y = np.sin(8*t)"
     ], 
     "language": "python", 
     "metadata": {}, 
     "outputs": [], 
     "prompt_number": 68
    }, 
    {
     "cell_type": "code", 
     "collapsed": false, 
     "input": [
      "plt.plot(x, y)"
     ], 
     "language": "python", 
     "metadata": {}, 
     "outputs": [
      {
       "output_type": "pyout", 
       "prompt_number": 69, 
       "text": [
        "[<matplotlib.lines.Line2D at 0xa21242c>]"
       ]
      }, 
      {
       "output_type": "display_data", 
       "png": "[encoded data removed]"
      }
     ], 
     "prompt_number": 69
    }, 
    {
     "cell_type": "code", 
     "collapsed": false, 
     "input": [
      "k = np.arange(1, 99)*2 - 1"
     ], 
     "language": "python", 
     "metadata": {}, 
     "outputs": [], 
     "prompt_number": 70
    }, 
    {
     "cell_type": "code", 
     "collapsed": false, 
     "input": [
      "f = np.zeros_like(t)"
     ], 
     "language": "python", 
     "metadata": {}, 
     "outputs": [], 
     "prompt_number": 71
    }, 
    {
     "cell_type": "code", 
     "collapsed": false, 
     "input": [
      "for i in range(len(t)):", 
      "", 
      "    f[i] = np.sum(np.sin(k*t[i])/k)"
     ], 
     "language": "python", 
     "metadata": {}, 
     "outputs": [], 
     "prompt_number": 72
    }, 
    {
     "cell_type": "code", 
     "collapsed": false, 
     "input": [
      "f = (4/np.pi)*f"
     ], 
     "language": "python", 
     "metadata": {}, 
     "outputs": [], 
     "prompt_number": 73
    }, 
    {
     "cell_type": "code", 
     "collapsed": false, 
     "input": [
      "plt.plot(t, f)"
     ], 
     "language": "python", 
     "metadata": {}, 
     "outputs": [
      {
       "output_type": "pyout", 
       "prompt_number": 74, 
       "text": [
        "[<matplotlib.lines.Line2D at 0xa36366c>]"
       ]
      }, 
      {
       "output_type": "display_data", 
       "png": "[encoded data removed]"
      }
     ], 
     "prompt_number": 74
    }, 
    {
     "cell_type": "code", 
     "collapsed": false, 
     "input": [
      "np.multiply.outer(np.arange(1, 3), np.arange(1, 3))"
     ], 
     "language": "python", 
     "metadata": {}, 
     "outputs": [
      {
       "output_type": "pyout", 
       "prompt_number": 80, 
       "text": [
        "array([[1, 2],", 
        "", 
        "       [2, 4]])"
       ]
      }
     ], 
     "prompt_number": 80
    }, 
    {
     "cell_type": "code", 
     "collapsed": false, 
     "input": [
      "x = np.arange(-9, 9)"
     ], 
     "language": "python", 
     "metadata": {}, 
     "outputs": [], 
     "prompt_number": 81
    }, 
    {
     "cell_type": "code", 
     "collapsed": false, 
     "input": [
      "y = -x"
     ], 
     "language": "python", 
     "metadata": {}, 
     "outputs": [], 
     "prompt_number": 82
    }, 
    {
     "cell_type": "code", 
     "collapsed": false, 
     "input": [
      "(x^y) < 0           # check the sign"
     ], 
     "language": "python", 
     "metadata": {}, 
     "outputs": [
      {
       "output_type": "pyout", 
       "prompt_number": 85, 
       "text": [
        "array([ True,  True,  True,  True,  True,  True,  True,  True,  True,", 
        "", 
        "       False,  True,  True,  True,  True,  True,  True,  True,  True], dtype=bool)"
       ]
      }
     ], 
     "prompt_number": 85
    }, 
    {
     "cell_type": "code", 
     "collapsed": false, 
     "input": [
      "np.less(np.bitwise_xor(x, y), 0)"
     ], 
     "language": "python", 
     "metadata": {}, 
     "outputs": [
      {
       "output_type": "pyout", 
       "prompt_number": 86, 
       "text": [
        "array([ True,  True,  True,  True,  True,  True,  True,  True,  True,", 
        "", 
        "       False,  True,  True,  True,  True,  True,  True,  True,  True], dtype=bool)"
       ]
      }
     ], 
     "prompt_number": 86
    }, 
    {
     "cell_type": "code", 
     "collapsed": false, 
     "input": [
      "x & (x-1) == 0    # is the power of 2"
     ], 
     "language": "python", 
     "metadata": {}, 
     "outputs": [
      {
       "output_type": "pyout", 
       "prompt_number": 87, 
       "text": [
        "array([False, False, False, False, False, False, False, False, False,", 
        "", 
        "        True,  True,  True, False,  True, False, False, False,  True], dtype=bool)"
       ]
      }
     ], 
     "prompt_number": 87
    }, 
    {
     "cell_type": "code", 
     "collapsed": false, 
     "input": [
      "np.equal(np.bitwise_and(x, x-1), 0)"
     ], 
     "language": "python", 
     "metadata": {}, 
     "outputs": [
      {
       "output_type": "pyout", 
       "prompt_number": 88, 
       "text": [
        "array([False, False, False, False, False, False, False, False, False,", 
        "", 
        "        True,  True,  True, False,  True, False, False, False,  True], dtype=bool)"
       ]
      }
     ], 
     "prompt_number": 88
    }, 
    {
     "cell_type": "code", 
     "collapsed": false, 
     "input": [
      "x & ((1 << 2) - 1)   # is the module of 4"
     ], 
     "language": "python", 
     "metadata": {}, 
     "outputs": [
      {
       "output_type": "pyout", 
       "prompt_number": 89, 
       "text": [
        "array([3, 0, 1, 2, 3, 0, 1, 2, 3, 0, 1, 2, 3, 0, 1, 2, 3, 0])"
       ]
      }
     ], 
     "prompt_number": 89
    }, 
    {
     "cell_type": "code", 
     "collapsed": false, 
     "input": [
      "np.bitwise_and(x, np.left_shift(1, 2) - 1)"
     ], 
     "language": "python", 
     "metadata": {}, 
     "outputs": [
      {
       "output_type": "pyout", 
       "prompt_number": 90, 
       "text": [
        "array([3, 0, 1, 2, 3, 0, 1, 2, 3, 0, 1, 2, 3, 0, 1, 2, 3, 0])"
       ]
      }
     ], 
     "prompt_number": 90
    }, 
    {
     "cell_type": "code", 
     "collapsed": false, 
     "input": [], 
     "language": "python", 
     "metadata": {}, 
     "outputs": []
    }
   ], 
   "metadata": {}
  }
 ]
}