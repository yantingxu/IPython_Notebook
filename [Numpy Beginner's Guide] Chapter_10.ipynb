{
 "metadata": {
  "name": "[Numpy Beginner's Guide] Chapter_10"
 }, 
 "nbformat": 2, 
 "nbformat_minor": 0, 
 "worksheets": [
  {
   "cells": [
    {
     "cell_type": "code", 
     "collapsed": false, 
     "input": [
      "import numpy as np"
     ], 
     "language": "python", 
     "metadata": {}, 
     "outputs": [], 
     "prompt_number": 1
    }, 
    {
     "cell_type": "code", 
     "collapsed": false, 
     "input": [
      "a = np.arange(7)"
     ], 
     "language": "python", 
     "metadata": {}, 
     "outputs": [], 
     "prompt_number": 3
    }, 
    {
     "cell_type": "code", 
     "collapsed": false, 
     "input": [
      "from scipy import io"
     ], 
     "language": "python", 
     "metadata": {}, 
     "outputs": [], 
     "prompt_number": 8
    }, 
    {
     "cell_type": "code", 
     "collapsed": false, 
     "input": [
      "io.savemat('a.mat', {\"array\": a.T})"
     ], 
     "language": "python", 
     "metadata": {}, 
     "outputs": [], 
     "prompt_number": 10
    }, 
    {
     "cell_type": "code", 
     "collapsed": false, 
     "input": [], 
     "language": "python", 
     "metadata": {}, 
     "outputs": []
    }
   ], 
   "metadata": {}
  }
 ]
}